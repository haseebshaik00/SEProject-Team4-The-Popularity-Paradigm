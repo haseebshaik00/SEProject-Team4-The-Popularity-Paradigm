{
 "cells": [
  {
   "cell_type": "code",
   "execution_count": null,
   "metadata": {},
   "outputs": [],
   "source": [
    "import pandas as pd\n",
    "import json\n",
    "import seaborn as sns\n",
    "import matplotlib.pyplot as plt\n",
    "import statsmodels.api as sm\n",
    "from statsmodels.formula.api import ols\n",
    "import networkx as nx\n",
    "\n",
    "# Dataset and Target Variables file paths\n",
    "datasetPath = \"/content/clean-apache-network-data.csv\"\n",
    "targetVariablePath = \"/content/apache_project_status.json\"\n",
    "\n",
    "# Load dataset\n",
    "df = pd.read_csv(datasetPath)\n",
    "with open(targetVariablePath, 'r') as f:\n",
    "    json_data = json.load(f)"
   ]
  }
 ],
 "metadata": {
  "kernelspec": {
   "display_name": "venv",
   "language": "python",
   "name": "python3"
  },
  "language_info": {
   "name": "python",
   "version": "3.9.6"
  }
 },
 "nbformat": 4,
 "nbformat_minor": 2
}
